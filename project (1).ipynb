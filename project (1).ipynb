{
 "cells": [
  {
   "cell_type": "markdown",
   "metadata": {},
   "source": [
    "                                            ONLINE SHOPPING OVER OFFLINE"
   ]
  },
  {
   "cell_type": "markdown",
   "metadata": {},
   "source": [
    "# IMPORTING LIBRARIES"
   ]
  },
  {
   "cell_type": "code",
   "execution_count": 1,
   "metadata": {},
   "outputs": [],
   "source": [
    "import pandas as pd\n",
    "import numpy as np\n",
    "import seaborn as sns"
   ]
  },
  {
   "cell_type": "markdown",
   "metadata": {},
   "source": [
    "# IMPORTING DATASET"
   ]
  },
  {
   "cell_type": "code",
   "execution_count": 2,
   "metadata": {},
   "outputs": [],
   "source": [
    "data = pd.read_csv(r\"C:\\Users\\RUCHITA ANGRE\\Desktop\\Project msc cs 2\\project data.csv\")"
   ]
  },
  {
   "cell_type": "code",
   "execution_count": 3,
   "metadata": {},
   "outputs": [
    {
     "data": {
      "text/html": [
       "<div>\n",
       "<style scoped>\n",
       "    .dataframe tbody tr th:only-of-type {\n",
       "        vertical-align: middle;\n",
       "    }\n",
       "\n",
       "    .dataframe tbody tr th {\n",
       "        vertical-align: top;\n",
       "    }\n",
       "\n",
       "    .dataframe thead th {\n",
       "        text-align: right;\n",
       "    }\n",
       "</style>\n",
       "<table border=\"1\" class=\"dataframe\">\n",
       "  <thead>\n",
       "    <tr style=\"text-align: right;\">\n",
       "      <th></th>\n",
       "      <th>Timestamp</th>\n",
       "      <th>Have you ever shopped Online?</th>\n",
       "      <th>If Yes, Do you find Online Grocery Shopping Easier ?</th>\n",
       "      <th>Why do you  Shop Online?</th>\n",
       "      <th>Did you find good quality of product online as compare to your Retailer Shop?</th>\n",
       "      <th>Do you find enough  Quantity of grocery product  online in comparison to your Retailer ?</th>\n",
       "      <th>Are online  products cheaper in price as compared to your Retailer Shop?</th>\n",
       "      <th>Did you find product online easily ,compare to  your Retailer Shop?</th>\n",
       "      <th>Do you find any difficulties in online payment ?</th>\n",
       "      <th>Are you satisfied with the product  you received as compared to your  Retailer Shop?</th>\n",
       "      <th>On scale of 5 , can you rate for following factor ? [On Time Delivery]</th>\n",
       "      <th>On scale of 5 , can you rate for following factor ? [Trustworthy]</th>\n",
       "      <th>On scale of 5 , can you rate for following factor ? [No transaction issues]</th>\n",
       "      <th>On scale of 5 , can you rate for following factor ? [Security]</th>\n",
       "      <th>On scale of 5 , can you rate for following factor ? [Product  Description]</th>\n",
       "      <th>On scale of 5 , can you rate for following factor ? [Product Reviews]</th>\n",
       "      <th>Has  COVID-19   increased time you spent online  grocery Shopping    ?</th>\n",
       "      <th>How often do you shop online in last six month?</th>\n",
       "      <th>Would you prefer  shopping grocery online  than shopping  from your Retailer Shop?</th>\n",
       "      <th>Overall, How would you rate your Online Grocery Shopping Experience</th>\n",
       "    </tr>\n",
       "  </thead>\n",
       "  <tbody>\n",
       "    <tr>\n",
       "      <th>0</th>\n",
       "      <td>2021/02/16 6:58:46 pm GMT+5:30</td>\n",
       "      <td>Yes</td>\n",
       "      <td>Yes</td>\n",
       "      <td>All of above</td>\n",
       "      <td>Yes</td>\n",
       "      <td>Yes</td>\n",
       "      <td>Yes</td>\n",
       "      <td>Yes</td>\n",
       "      <td>No</td>\n",
       "      <td>Yes</td>\n",
       "      <td>5</td>\n",
       "      <td>5</td>\n",
       "      <td>5</td>\n",
       "      <td>5</td>\n",
       "      <td>5</td>\n",
       "      <td>4</td>\n",
       "      <td>Yes</td>\n",
       "      <td>Everyday</td>\n",
       "      <td>Yes</td>\n",
       "      <td>5</td>\n",
       "    </tr>\n",
       "    <tr>\n",
       "      <th>1</th>\n",
       "      <td>2021/02/16 6:59:24 pm GMT+5:30</td>\n",
       "      <td>Yes</td>\n",
       "      <td>Yes</td>\n",
       "      <td>Variety of Product</td>\n",
       "      <td>Yes</td>\n",
       "      <td>Yes</td>\n",
       "      <td>Yes</td>\n",
       "      <td>Yes</td>\n",
       "      <td>No</td>\n",
       "      <td>No</td>\n",
       "      <td>1</td>\n",
       "      <td>2</td>\n",
       "      <td>2</td>\n",
       "      <td>2</td>\n",
       "      <td>2</td>\n",
       "      <td>2</td>\n",
       "      <td>Yes</td>\n",
       "      <td>Everyday</td>\n",
       "      <td>Yes</td>\n",
       "      <td>1</td>\n",
       "    </tr>\n",
       "    <tr>\n",
       "      <th>2</th>\n",
       "      <td>2021/02/16 7:00:12 pm GMT+5:30</td>\n",
       "      <td>Yes</td>\n",
       "      <td>Yes</td>\n",
       "      <td>All of above</td>\n",
       "      <td>Yes</td>\n",
       "      <td>Yes</td>\n",
       "      <td>Yes</td>\n",
       "      <td>Yes</td>\n",
       "      <td>Yes</td>\n",
       "      <td>Yes</td>\n",
       "      <td>2</td>\n",
       "      <td>2</td>\n",
       "      <td>2</td>\n",
       "      <td>2</td>\n",
       "      <td>2</td>\n",
       "      <td>2</td>\n",
       "      <td>Yes</td>\n",
       "      <td>Everyday</td>\n",
       "      <td>Yes</td>\n",
       "      <td>5</td>\n",
       "    </tr>\n",
       "    <tr>\n",
       "      <th>3</th>\n",
       "      <td>2021/02/16 7:03:40 pm GMT+5:30</td>\n",
       "      <td>Yes</td>\n",
       "      <td>Yes</td>\n",
       "      <td>All of above</td>\n",
       "      <td>Yes</td>\n",
       "      <td>Yes</td>\n",
       "      <td>Yes</td>\n",
       "      <td>Yes</td>\n",
       "      <td>Yes</td>\n",
       "      <td>Yes</td>\n",
       "      <td>5</td>\n",
       "      <td>5</td>\n",
       "      <td>5</td>\n",
       "      <td>5</td>\n",
       "      <td>5</td>\n",
       "      <td>5</td>\n",
       "      <td>Yes</td>\n",
       "      <td>Everyday</td>\n",
       "      <td>Yes</td>\n",
       "      <td>5</td>\n",
       "    </tr>\n",
       "    <tr>\n",
       "      <th>4</th>\n",
       "      <td>2021/02/16 7:19:36 pm GMT+5:30</td>\n",
       "      <td>Yes</td>\n",
       "      <td>Yes</td>\n",
       "      <td>Variety of Product</td>\n",
       "      <td>No</td>\n",
       "      <td>Yes</td>\n",
       "      <td>Yes</td>\n",
       "      <td>Yes</td>\n",
       "      <td>No</td>\n",
       "      <td>Yes</td>\n",
       "      <td>2</td>\n",
       "      <td>2</td>\n",
       "      <td>1</td>\n",
       "      <td>2</td>\n",
       "      <td>2</td>\n",
       "      <td>1</td>\n",
       "      <td>Yes</td>\n",
       "      <td>Weekly</td>\n",
       "      <td>Yes</td>\n",
       "      <td>3</td>\n",
       "    </tr>\n",
       "    <tr>\n",
       "      <th>...</th>\n",
       "      <td>...</td>\n",
       "      <td>...</td>\n",
       "      <td>...</td>\n",
       "      <td>...</td>\n",
       "      <td>...</td>\n",
       "      <td>...</td>\n",
       "      <td>...</td>\n",
       "      <td>...</td>\n",
       "      <td>...</td>\n",
       "      <td>...</td>\n",
       "      <td>...</td>\n",
       "      <td>...</td>\n",
       "      <td>...</td>\n",
       "      <td>...</td>\n",
       "      <td>...</td>\n",
       "      <td>...</td>\n",
       "      <td>...</td>\n",
       "      <td>...</td>\n",
       "      <td>...</td>\n",
       "      <td>...</td>\n",
       "    </tr>\n",
       "    <tr>\n",
       "      <th>365</th>\n",
       "      <td>2021/03/16 10:55:40 am GMT+5:30</td>\n",
       "      <td>Yes</td>\n",
       "      <td>No</td>\n",
       "      <td>Discount &amp; Offers;Convenient;Shop at any time</td>\n",
       "      <td>No</td>\n",
       "      <td>No</td>\n",
       "      <td>No</td>\n",
       "      <td>No</td>\n",
       "      <td>Yes</td>\n",
       "      <td>No</td>\n",
       "      <td>1</td>\n",
       "      <td>1</td>\n",
       "      <td>1</td>\n",
       "      <td>1</td>\n",
       "      <td>3</td>\n",
       "      <td>2</td>\n",
       "      <td>Yes</td>\n",
       "      <td>Weekly</td>\n",
       "      <td>No</td>\n",
       "      <td>1</td>\n",
       "    </tr>\n",
       "    <tr>\n",
       "      <th>366</th>\n",
       "      <td>2021/03/16 5:15:57 pm GMT+5:30</td>\n",
       "      <td>Yes</td>\n",
       "      <td>Yes</td>\n",
       "      <td>All of above</td>\n",
       "      <td>Yes</td>\n",
       "      <td>Yes</td>\n",
       "      <td>Yes</td>\n",
       "      <td>Yes</td>\n",
       "      <td>No</td>\n",
       "      <td>Yes</td>\n",
       "      <td>5</td>\n",
       "      <td>5</td>\n",
       "      <td>4</td>\n",
       "      <td>5</td>\n",
       "      <td>3</td>\n",
       "      <td>3</td>\n",
       "      <td>Yes</td>\n",
       "      <td>Weekly</td>\n",
       "      <td>Yes</td>\n",
       "      <td>4</td>\n",
       "    </tr>\n",
       "    <tr>\n",
       "      <th>367</th>\n",
       "      <td>2021/03/16 8:51:02 pm GMT+5:30</td>\n",
       "      <td>Yes</td>\n",
       "      <td>Yes</td>\n",
       "      <td>All of above</td>\n",
       "      <td>Yes</td>\n",
       "      <td>Yes</td>\n",
       "      <td>Yes</td>\n",
       "      <td>Yes</td>\n",
       "      <td>No</td>\n",
       "      <td>Yes</td>\n",
       "      <td>4</td>\n",
       "      <td>4</td>\n",
       "      <td>5</td>\n",
       "      <td>5</td>\n",
       "      <td>5</td>\n",
       "      <td>4</td>\n",
       "      <td>Yes</td>\n",
       "      <td>Weekly</td>\n",
       "      <td>Yes</td>\n",
       "      <td>4</td>\n",
       "    </tr>\n",
       "    <tr>\n",
       "      <th>368</th>\n",
       "      <td>2021/03/16 9:25:47 pm GMT+5:30</td>\n",
       "      <td>Yes</td>\n",
       "      <td>No</td>\n",
       "      <td>Variety of Product;Shop at any time</td>\n",
       "      <td>No</td>\n",
       "      <td>No</td>\n",
       "      <td>No</td>\n",
       "      <td>No</td>\n",
       "      <td>Yes</td>\n",
       "      <td>No</td>\n",
       "      <td>3</td>\n",
       "      <td>1</td>\n",
       "      <td>1</td>\n",
       "      <td>1</td>\n",
       "      <td>1</td>\n",
       "      <td>1</td>\n",
       "      <td>Yes</td>\n",
       "      <td>Weekly</td>\n",
       "      <td>No</td>\n",
       "      <td>1</td>\n",
       "    </tr>\n",
       "    <tr>\n",
       "      <th>369</th>\n",
       "      <td>2021/03/17 11:26:44 pm GMT+5:30</td>\n",
       "      <td>Yes</td>\n",
       "      <td>Yes</td>\n",
       "      <td>All of above</td>\n",
       "      <td>Yes</td>\n",
       "      <td>Yes</td>\n",
       "      <td>Yes</td>\n",
       "      <td>Yes</td>\n",
       "      <td>No</td>\n",
       "      <td>Yes</td>\n",
       "      <td>4</td>\n",
       "      <td>4</td>\n",
       "      <td>5</td>\n",
       "      <td>4</td>\n",
       "      <td>5</td>\n",
       "      <td>5</td>\n",
       "      <td>Yes</td>\n",
       "      <td>Monthly</td>\n",
       "      <td>Yes</td>\n",
       "      <td>5</td>\n",
       "    </tr>\n",
       "  </tbody>\n",
       "</table>\n",
       "<p>370 rows × 20 columns</p>\n",
       "</div>"
      ],
      "text/plain": [
       "                           Timestamp Have you ever shopped Online?  \\\n",
       "0     2021/02/16 6:58:46 pm GMT+5:30                           Yes   \n",
       "1     2021/02/16 6:59:24 pm GMT+5:30                           Yes   \n",
       "2     2021/02/16 7:00:12 pm GMT+5:30                           Yes   \n",
       "3     2021/02/16 7:03:40 pm GMT+5:30                           Yes   \n",
       "4     2021/02/16 7:19:36 pm GMT+5:30                           Yes   \n",
       "..                               ...                           ...   \n",
       "365  2021/03/16 10:55:40 am GMT+5:30                           Yes   \n",
       "366   2021/03/16 5:15:57 pm GMT+5:30                           Yes   \n",
       "367   2021/03/16 8:51:02 pm GMT+5:30                           Yes   \n",
       "368   2021/03/16 9:25:47 pm GMT+5:30                           Yes   \n",
       "369  2021/03/17 11:26:44 pm GMT+5:30                           Yes   \n",
       "\n",
       "    If Yes, Do you find Online Grocery Shopping Easier ?  \\\n",
       "0                                                  Yes     \n",
       "1                                                  Yes     \n",
       "2                                                  Yes     \n",
       "3                                                  Yes     \n",
       "4                                                  Yes     \n",
       "..                                                 ...     \n",
       "365                                                 No     \n",
       "366                                                Yes     \n",
       "367                                                Yes     \n",
       "368                                                 No     \n",
       "369                                                Yes     \n",
       "\n",
       "                        Why do you  Shop Online?    \\\n",
       "0                                     All of above   \n",
       "1                               Variety of Product   \n",
       "2                                     All of above   \n",
       "3                                     All of above   \n",
       "4                               Variety of Product   \n",
       "..                                             ...   \n",
       "365  Discount & Offers;Convenient;Shop at any time   \n",
       "366                                   All of above   \n",
       "367                                   All of above   \n",
       "368            Variety of Product;Shop at any time   \n",
       "369                                   All of above   \n",
       "\n",
       "    Did you find good quality of product online as compare to your Retailer Shop?  \\\n",
       "0                                                  Yes                              \n",
       "1                                                  Yes                              \n",
       "2                                                  Yes                              \n",
       "3                                                  Yes                              \n",
       "4                                                   No                              \n",
       "..                                                 ...                              \n",
       "365                                                 No                              \n",
       "366                                                Yes                              \n",
       "367                                                Yes                              \n",
       "368                                                 No                              \n",
       "369                                                Yes                              \n",
       "\n",
       "    Do you find enough  Quantity of grocery product  online in comparison to your Retailer ?   \\\n",
       "0                                                  Yes                                          \n",
       "1                                                  Yes                                          \n",
       "2                                                  Yes                                          \n",
       "3                                                  Yes                                          \n",
       "4                                                  Yes                                          \n",
       "..                                                 ...                                          \n",
       "365                                                 No                                          \n",
       "366                                                Yes                                          \n",
       "367                                                Yes                                          \n",
       "368                                                 No                                          \n",
       "369                                                Yes                                          \n",
       "\n",
       "    Are online  products cheaper in price as compared to your Retailer Shop?   \\\n",
       "0                                                  Yes                          \n",
       "1                                                  Yes                          \n",
       "2                                                  Yes                          \n",
       "3                                                  Yes                          \n",
       "4                                                  Yes                          \n",
       "..                                                 ...                          \n",
       "365                                                 No                          \n",
       "366                                                Yes                          \n",
       "367                                                Yes                          \n",
       "368                                                 No                          \n",
       "369                                                Yes                          \n",
       "\n",
       "    Did you find product online easily ,compare to  your Retailer Shop?   \\\n",
       "0                                                  Yes                     \n",
       "1                                                  Yes                     \n",
       "2                                                  Yes                     \n",
       "3                                                  Yes                     \n",
       "4                                                  Yes                     \n",
       "..                                                 ...                     \n",
       "365                                                 No                     \n",
       "366                                                Yes                     \n",
       "367                                                Yes                     \n",
       "368                                                 No                     \n",
       "369                                                Yes                     \n",
       "\n",
       "    Do you find any difficulties in online payment ?  \\\n",
       "0                                                 No   \n",
       "1                                                 No   \n",
       "2                                                Yes   \n",
       "3                                                Yes   \n",
       "4                                                 No   \n",
       "..                                               ...   \n",
       "365                                              Yes   \n",
       "366                                               No   \n",
       "367                                               No   \n",
       "368                                              Yes   \n",
       "369                                               No   \n",
       "\n",
       "    Are you satisfied with the product  you received as compared to your  Retailer Shop?   \\\n",
       "0                                                  Yes                                      \n",
       "1                                                   No                                      \n",
       "2                                                  Yes                                      \n",
       "3                                                  Yes                                      \n",
       "4                                                  Yes                                      \n",
       "..                                                 ...                                      \n",
       "365                                                 No                                      \n",
       "366                                                Yes                                      \n",
       "367                                                Yes                                      \n",
       "368                                                 No                                      \n",
       "369                                                Yes                                      \n",
       "\n",
       "     On scale of 5 , can you rate for following factor ? [On Time Delivery]  \\\n",
       "0                                                    5                        \n",
       "1                                                    1                        \n",
       "2                                                    2                        \n",
       "3                                                    5                        \n",
       "4                                                    2                        \n",
       "..                                                 ...                        \n",
       "365                                                  1                        \n",
       "366                                                  5                        \n",
       "367                                                  4                        \n",
       "368                                                  3                        \n",
       "369                                                  4                        \n",
       "\n",
       "     On scale of 5 , can you rate for following factor ? [Trustworthy]  \\\n",
       "0                                                    5                   \n",
       "1                                                    2                   \n",
       "2                                                    2                   \n",
       "3                                                    5                   \n",
       "4                                                    2                   \n",
       "..                                                 ...                   \n",
       "365                                                  1                   \n",
       "366                                                  5                   \n",
       "367                                                  4                   \n",
       "368                                                  1                   \n",
       "369                                                  4                   \n",
       "\n",
       "     On scale of 5 , can you rate for following factor ? [No transaction issues]  \\\n",
       "0                                                    5                             \n",
       "1                                                    2                             \n",
       "2                                                    2                             \n",
       "3                                                    5                             \n",
       "4                                                    1                             \n",
       "..                                                 ...                             \n",
       "365                                                  1                             \n",
       "366                                                  4                             \n",
       "367                                                  5                             \n",
       "368                                                  1                             \n",
       "369                                                  5                             \n",
       "\n",
       "     On scale of 5 , can you rate for following factor ? [Security]  \\\n",
       "0                                                    5                \n",
       "1                                                    2                \n",
       "2                                                    2                \n",
       "3                                                    5                \n",
       "4                                                    2                \n",
       "..                                                 ...                \n",
       "365                                                  1                \n",
       "366                                                  5                \n",
       "367                                                  5                \n",
       "368                                                  1                \n",
       "369                                                  4                \n",
       "\n",
       "     On scale of 5 , can you rate for following factor ? [Product  Description]  \\\n",
       "0                                                    5                            \n",
       "1                                                    2                            \n",
       "2                                                    2                            \n",
       "3                                                    5                            \n",
       "4                                                    2                            \n",
       "..                                                 ...                            \n",
       "365                                                  3                            \n",
       "366                                                  3                            \n",
       "367                                                  5                            \n",
       "368                                                  1                            \n",
       "369                                                  5                            \n",
       "\n",
       "     On scale of 5 , can you rate for following factor ? [Product Reviews]  \\\n",
       "0                                                    4                       \n",
       "1                                                    2                       \n",
       "2                                                    2                       \n",
       "3                                                    5                       \n",
       "4                                                    1                       \n",
       "..                                                 ...                       \n",
       "365                                                  2                       \n",
       "366                                                  3                       \n",
       "367                                                  4                       \n",
       "368                                                  1                       \n",
       "369                                                  5                       \n",
       "\n",
       "    Has  COVID-19   increased time you spent online  grocery Shopping    ?   \\\n",
       "0                                                  Yes                        \n",
       "1                                                  Yes                        \n",
       "2                                                  Yes                        \n",
       "3                                                  Yes                        \n",
       "4                                                  Yes                        \n",
       "..                                                 ...                        \n",
       "365                                                Yes                        \n",
       "366                                                Yes                        \n",
       "367                                                Yes                        \n",
       "368                                                Yes                        \n",
       "369                                                Yes                        \n",
       "\n",
       "    How often do you shop online in last six month?  \\\n",
       "0                                          Everyday   \n",
       "1                                          Everyday   \n",
       "2                                          Everyday   \n",
       "3                                          Everyday   \n",
       "4                                            Weekly   \n",
       "..                                              ...   \n",
       "365                                          Weekly   \n",
       "366                                          Weekly   \n",
       "367                                          Weekly   \n",
       "368                                          Weekly   \n",
       "369                                         Monthly   \n",
       "\n",
       "    Would you prefer  shopping grocery online  than shopping  from your Retailer Shop?    \\\n",
       "0                                                  Yes                                     \n",
       "1                                                  Yes                                     \n",
       "2                                                  Yes                                     \n",
       "3                                                  Yes                                     \n",
       "4                                                  Yes                                     \n",
       "..                                                 ...                                     \n",
       "365                                                 No                                     \n",
       "366                                                Yes                                     \n",
       "367                                                Yes                                     \n",
       "368                                                 No                                     \n",
       "369                                                Yes                                     \n",
       "\n",
       "     Overall, How would you rate your Online Grocery Shopping Experience  \n",
       "0                                                    5                    \n",
       "1                                                    1                    \n",
       "2                                                    5                    \n",
       "3                                                    5                    \n",
       "4                                                    3                    \n",
       "..                                                 ...                    \n",
       "365                                                  1                    \n",
       "366                                                  4                    \n",
       "367                                                  4                    \n",
       "368                                                  1                    \n",
       "369                                                  5                    \n",
       "\n",
       "[370 rows x 20 columns]"
      ]
     },
     "execution_count": 3,
     "metadata": {},
     "output_type": "execute_result"
    }
   ],
   "source": [
    "data\n"
   ]
  },
  {
   "cell_type": "markdown",
   "metadata": {},
   "source": [
    "# DETAILS OF DATASET"
   ]
  },
  {
   "cell_type": "code",
   "execution_count": 4,
   "metadata": {},
   "outputs": [
    {
     "name": "stdout",
     "output_type": "stream",
     "text": [
      "<class 'pandas.core.frame.DataFrame'>\n",
      "RangeIndex: 370 entries, 0 to 369\n",
      "Data columns (total 20 columns):\n",
      " #   Column                                                                                     Non-Null Count  Dtype \n",
      "---  ------                                                                                     --------------  ----- \n",
      " 0   Timestamp                                                                                  370 non-null    object\n",
      " 1   Have you ever shopped Online?                                                              370 non-null    object\n",
      " 2   If Yes, Do you find Online Grocery Shopping Easier ?                                       370 non-null    object\n",
      " 3   Why do you  Shop Online?                                                                   370 non-null    object\n",
      " 4   Did you find good quality of product online as compare to your Retailer Shop?              370 non-null    object\n",
      " 5   Do you find enough  Quantity of grocery product  online in comparison to your Retailer ?   370 non-null    object\n",
      " 6   Are online  products cheaper in price as compared to your Retailer Shop?                   370 non-null    object\n",
      " 7   Did you find product online easily ,compare to  your Retailer Shop?                        370 non-null    object\n",
      " 8   Do you find any difficulties in online payment ?                                           370 non-null    object\n",
      " 9   Are you satisfied with the product  you received as compared to your  Retailer Shop?       370 non-null    object\n",
      " 10  On scale of 5 , can you rate for following factor ? [On Time Delivery]                     370 non-null    int64 \n",
      " 11  On scale of 5 , can you rate for following factor ? [Trustworthy]                          370 non-null    int64 \n",
      " 12  On scale of 5 , can you rate for following factor ? [No transaction issues]                370 non-null    int64 \n",
      " 13  On scale of 5 , can you rate for following factor ? [Security]                             370 non-null    int64 \n",
      " 14  On scale of 5 , can you rate for following factor ? [Product  Description]                 370 non-null    int64 \n",
      " 15  On scale of 5 , can you rate for following factor ? [Product Reviews]                      370 non-null    int64 \n",
      " 16  Has  COVID-19   increased time you spent online  grocery Shopping    ?                     370 non-null    object\n",
      " 17  How often do you shop online in last six month?                                            370 non-null    object\n",
      " 18  Would you prefer  shopping grocery online  than shopping  from your Retailer Shop?         370 non-null    object\n",
      " 19  Overall, How would you rate your Online Grocery Shopping Experience                        370 non-null    int64 \n",
      "dtypes: int64(7), object(13)\n",
      "memory usage: 57.9+ KB\n"
     ]
    }
   ],
   "source": [
    "data.info()\n"
   ]
  },
  {
   "cell_type": "markdown",
   "metadata": {},
   "source": [
    "# NO. OF ROWS & COLUMNS IN DATASET"
   ]
  },
  {
   "cell_type": "code",
   "execution_count": 5,
   "metadata": {},
   "outputs": [
    {
     "data": {
      "text/plain": [
       "(370, 20)"
      ]
     },
     "execution_count": 5,
     "metadata": {},
     "output_type": "execute_result"
    }
   ],
   "source": [
    "data.shape"
   ]
  },
  {
   "cell_type": "markdown",
   "metadata": {},
   "source": [
    "# COLUMNS NAMES"
   ]
  },
  {
   "cell_type": "code",
   "execution_count": 6,
   "metadata": {},
   "outputs": [
    {
     "data": {
      "text/plain": [
       "Index(['Timestamp', 'Have you ever shopped Online?',\n",
       "       'If Yes, Do you find Online Grocery Shopping Easier ?',\n",
       "       'Why do you  Shop Online?  ',\n",
       "       'Did you find good quality of product online as compare to your Retailer Shop?',\n",
       "       'Do you find enough  Quantity of grocery product  online in comparison to your Retailer ? ',\n",
       "       'Are online  products cheaper in price as compared to your Retailer Shop? ',\n",
       "       'Did you find product online easily ,compare to  your Retailer Shop? ',\n",
       "       'Do you find any difficulties in online payment ?',\n",
       "       'Are you satisfied with the product  you received as compared to your  Retailer Shop? ',\n",
       "       'On scale of 5 , can you rate for following factor ? [On Time Delivery]',\n",
       "       'On scale of 5 , can you rate for following factor ? [Trustworthy]',\n",
       "       'On scale of 5 , can you rate for following factor ? [No transaction issues]',\n",
       "       'On scale of 5 , can you rate for following factor ? [Security]',\n",
       "       'On scale of 5 , can you rate for following factor ? [Product  Description]',\n",
       "       'On scale of 5 , can you rate for following factor ? [Product Reviews]',\n",
       "       'Has  COVID-19   increased time you spent online  grocery Shopping    ? ',\n",
       "       'How often do you shop online in last six month?',\n",
       "       'Would you prefer  shopping grocery online  than shopping  from your Retailer Shop?  ',\n",
       "       'Overall, How would you rate your Online Grocery Shopping Experience'],\n",
       "      dtype='object')"
      ]
     },
     "execution_count": 6,
     "metadata": {},
     "output_type": "execute_result"
    }
   ],
   "source": [
    "data.columns"
   ]
  },
  {
   "cell_type": "markdown",
   "metadata": {},
   "source": [
    "# DATATYPE OF  COLUMNS"
   ]
  },
  {
   "cell_type": "code",
   "execution_count": 7,
   "metadata": {},
   "outputs": [
    {
     "data": {
      "text/plain": [
       "Timestamp                                                                                    object\n",
       "Have you ever shopped Online?                                                                object\n",
       "If Yes, Do you find Online Grocery Shopping Easier ?                                         object\n",
       "Why do you  Shop Online?                                                                     object\n",
       "Did you find good quality of product online as compare to your Retailer Shop?                object\n",
       "Do you find enough  Quantity of grocery product  online in comparison to your Retailer ?     object\n",
       "Are online  products cheaper in price as compared to your Retailer Shop?                     object\n",
       "Did you find product online easily ,compare to  your Retailer Shop?                          object\n",
       "Do you find any difficulties in online payment ?                                             object\n",
       "Are you satisfied with the product  you received as compared to your  Retailer Shop?         object\n",
       "On scale of 5 , can you rate for following factor ? [On Time Delivery]                        int64\n",
       "On scale of 5 , can you rate for following factor ? [Trustworthy]                             int64\n",
       "On scale of 5 , can you rate for following factor ? [No transaction issues]                   int64\n",
       "On scale of 5 , can you rate for following factor ? [Security]                                int64\n",
       "On scale of 5 , can you rate for following factor ? [Product  Description]                    int64\n",
       "On scale of 5 , can you rate for following factor ? [Product Reviews]                         int64\n",
       "Has  COVID-19   increased time you spent online  grocery Shopping    ?                       object\n",
       "How often do you shop online in last six month?                                              object\n",
       "Would you prefer  shopping grocery online  than shopping  from your Retailer Shop?           object\n",
       "Overall, How would you rate your Online Grocery Shopping Experience                           int64\n",
       "dtype: object"
      ]
     },
     "execution_count": 7,
     "metadata": {},
     "output_type": "execute_result"
    }
   ],
   "source": [
    "data.dtypes"
   ]
  },
  {
   "cell_type": "markdown",
   "metadata": {},
   "source": [
    "# CHECKING NULL VALUES"
   ]
  },
  {
   "cell_type": "code",
   "execution_count": 8,
   "metadata": {},
   "outputs": [
    {
     "data": {
      "text/plain": [
       "Timestamp                                                                                    0\n",
       "Have you ever shopped Online?                                                                0\n",
       "If Yes, Do you find Online Grocery Shopping Easier ?                                         0\n",
       "Why do you  Shop Online?                                                                     0\n",
       "Did you find good quality of product online as compare to your Retailer Shop?                0\n",
       "Do you find enough  Quantity of grocery product  online in comparison to your Retailer ?     0\n",
       "Are online  products cheaper in price as compared to your Retailer Shop?                     0\n",
       "Did you find product online easily ,compare to  your Retailer Shop?                          0\n",
       "Do you find any difficulties in online payment ?                                             0\n",
       "Are you satisfied with the product  you received as compared to your  Retailer Shop?         0\n",
       "On scale of 5 , can you rate for following factor ? [On Time Delivery]                       0\n",
       "On scale of 5 , can you rate for following factor ? [Trustworthy]                            0\n",
       "On scale of 5 , can you rate for following factor ? [No transaction issues]                  0\n",
       "On scale of 5 , can you rate for following factor ? [Security]                               0\n",
       "On scale of 5 , can you rate for following factor ? [Product  Description]                   0\n",
       "On scale of 5 , can you rate for following factor ? [Product Reviews]                        0\n",
       "Has  COVID-19   increased time you spent online  grocery Shopping    ?                       0\n",
       "How often do you shop online in last six month?                                              0\n",
       "Would you prefer  shopping grocery online  than shopping  from your Retailer Shop?           0\n",
       "Overall, How would you rate your Online Grocery Shopping Experience                          0\n",
       "dtype: int64"
      ]
     },
     "execution_count": 8,
     "metadata": {},
     "output_type": "execute_result"
    }
   ],
   "source": [
    "data.isnull().sum()"
   ]
  },
  {
   "cell_type": "markdown",
   "metadata": {},
   "source": [
    "# FINDING DUPLICATE VALUES"
   ]
  },
  {
   "cell_type": "code",
   "execution_count": 9,
   "metadata": {},
   "outputs": [
    {
     "data": {
      "text/plain": [
       "0      False\n",
       "1      False\n",
       "2      False\n",
       "3      False\n",
       "4      False\n",
       "       ...  \n",
       "365    False\n",
       "366    False\n",
       "367    False\n",
       "368    False\n",
       "369    False\n",
       "Length: 370, dtype: bool"
      ]
     },
     "execution_count": 9,
     "metadata": {},
     "output_type": "execute_result"
    }
   ],
   "source": [
    "data.duplicated()"
   ]
  },
  {
   "cell_type": "markdown",
   "metadata": {},
   "source": [
    "# TOTAL COUNT "
   ]
  },
  {
   "cell_type": "code",
   "execution_count": 10,
   "metadata": {},
   "outputs": [
    {
     "data": {
      "text/html": [
       "<div>\n",
       "<style scoped>\n",
       "    .dataframe tbody tr th:only-of-type {\n",
       "        vertical-align: middle;\n",
       "    }\n",
       "\n",
       "    .dataframe tbody tr th {\n",
       "        vertical-align: top;\n",
       "    }\n",
       "\n",
       "    .dataframe thead th {\n",
       "        text-align: right;\n",
       "    }\n",
       "</style>\n",
       "<table border=\"1\" class=\"dataframe\">\n",
       "  <thead>\n",
       "    <tr style=\"text-align: right;\">\n",
       "      <th></th>\n",
       "      <th>On scale of 5 , can you rate for following factor ? [On Time Delivery]</th>\n",
       "      <th>On scale of 5 , can you rate for following factor ? [Trustworthy]</th>\n",
       "      <th>On scale of 5 , can you rate for following factor ? [No transaction issues]</th>\n",
       "      <th>On scale of 5 , can you rate for following factor ? [Security]</th>\n",
       "      <th>On scale of 5 , can you rate for following factor ? [Product  Description]</th>\n",
       "      <th>On scale of 5 , can you rate for following factor ? [Product Reviews]</th>\n",
       "      <th>Overall, How would you rate your Online Grocery Shopping Experience</th>\n",
       "    </tr>\n",
       "  </thead>\n",
       "  <tbody>\n",
       "    <tr>\n",
       "      <th>count</th>\n",
       "      <td>370.000000</td>\n",
       "      <td>370.000000</td>\n",
       "      <td>370.000000</td>\n",
       "      <td>370.000000</td>\n",
       "      <td>370.000000</td>\n",
       "      <td>370.000000</td>\n",
       "      <td>370.000000</td>\n",
       "    </tr>\n",
       "    <tr>\n",
       "      <th>mean</th>\n",
       "      <td>3.564865</td>\n",
       "      <td>3.221622</td>\n",
       "      <td>3.667568</td>\n",
       "      <td>3.264865</td>\n",
       "      <td>3.481081</td>\n",
       "      <td>3.327027</td>\n",
       "      <td>3.524324</td>\n",
       "    </tr>\n",
       "    <tr>\n",
       "      <th>std</th>\n",
       "      <td>1.338348</td>\n",
       "      <td>1.285553</td>\n",
       "      <td>1.425770</td>\n",
       "      <td>1.207523</td>\n",
       "      <td>1.302871</td>\n",
       "      <td>1.316386</td>\n",
       "      <td>1.343741</td>\n",
       "    </tr>\n",
       "    <tr>\n",
       "      <th>min</th>\n",
       "      <td>1.000000</td>\n",
       "      <td>1.000000</td>\n",
       "      <td>1.000000</td>\n",
       "      <td>1.000000</td>\n",
       "      <td>1.000000</td>\n",
       "      <td>1.000000</td>\n",
       "      <td>1.000000</td>\n",
       "    </tr>\n",
       "    <tr>\n",
       "      <th>25%</th>\n",
       "      <td>2.250000</td>\n",
       "      <td>2.000000</td>\n",
       "      <td>3.000000</td>\n",
       "      <td>2.000000</td>\n",
       "      <td>2.000000</td>\n",
       "      <td>2.000000</td>\n",
       "      <td>2.000000</td>\n",
       "    </tr>\n",
       "    <tr>\n",
       "      <th>50%</th>\n",
       "      <td>4.000000</td>\n",
       "      <td>3.000000</td>\n",
       "      <td>4.000000</td>\n",
       "      <td>3.000000</td>\n",
       "      <td>4.000000</td>\n",
       "      <td>3.000000</td>\n",
       "      <td>4.000000</td>\n",
       "    </tr>\n",
       "    <tr>\n",
       "      <th>75%</th>\n",
       "      <td>5.000000</td>\n",
       "      <td>4.000000</td>\n",
       "      <td>5.000000</td>\n",
       "      <td>4.000000</td>\n",
       "      <td>5.000000</td>\n",
       "      <td>4.000000</td>\n",
       "      <td>5.000000</td>\n",
       "    </tr>\n",
       "    <tr>\n",
       "      <th>max</th>\n",
       "      <td>5.000000</td>\n",
       "      <td>5.000000</td>\n",
       "      <td>5.000000</td>\n",
       "      <td>5.000000</td>\n",
       "      <td>5.000000</td>\n",
       "      <td>5.000000</td>\n",
       "      <td>5.000000</td>\n",
       "    </tr>\n",
       "  </tbody>\n",
       "</table>\n",
       "</div>"
      ],
      "text/plain": [
       "       On scale of 5 , can you rate for following factor ? [On Time Delivery]  \\\n",
       "count                                         370.000000                        \n",
       "mean                                            3.564865                        \n",
       "std                                             1.338348                        \n",
       "min                                             1.000000                        \n",
       "25%                                             2.250000                        \n",
       "50%                                             4.000000                        \n",
       "75%                                             5.000000                        \n",
       "max                                             5.000000                        \n",
       "\n",
       "       On scale of 5 , can you rate for following factor ? [Trustworthy]  \\\n",
       "count                                         370.000000                   \n",
       "mean                                            3.221622                   \n",
       "std                                             1.285553                   \n",
       "min                                             1.000000                   \n",
       "25%                                             2.000000                   \n",
       "50%                                             3.000000                   \n",
       "75%                                             4.000000                   \n",
       "max                                             5.000000                   \n",
       "\n",
       "       On scale of 5 , can you rate for following factor ? [No transaction issues]  \\\n",
       "count                                         370.000000                             \n",
       "mean                                            3.667568                             \n",
       "std                                             1.425770                             \n",
       "min                                             1.000000                             \n",
       "25%                                             3.000000                             \n",
       "50%                                             4.000000                             \n",
       "75%                                             5.000000                             \n",
       "max                                             5.000000                             \n",
       "\n",
       "       On scale of 5 , can you rate for following factor ? [Security]  \\\n",
       "count                                         370.000000                \n",
       "mean                                            3.264865                \n",
       "std                                             1.207523                \n",
       "min                                             1.000000                \n",
       "25%                                             2.000000                \n",
       "50%                                             3.000000                \n",
       "75%                                             4.000000                \n",
       "max                                             5.000000                \n",
       "\n",
       "       On scale of 5 , can you rate for following factor ? [Product  Description]  \\\n",
       "count                                         370.000000                            \n",
       "mean                                            3.481081                            \n",
       "std                                             1.302871                            \n",
       "min                                             1.000000                            \n",
       "25%                                             2.000000                            \n",
       "50%                                             4.000000                            \n",
       "75%                                             5.000000                            \n",
       "max                                             5.000000                            \n",
       "\n",
       "       On scale of 5 , can you rate for following factor ? [Product Reviews]  \\\n",
       "count                                         370.000000                       \n",
       "mean                                            3.327027                       \n",
       "std                                             1.316386                       \n",
       "min                                             1.000000                       \n",
       "25%                                             2.000000                       \n",
       "50%                                             3.000000                       \n",
       "75%                                             4.000000                       \n",
       "max                                             5.000000                       \n",
       "\n",
       "       Overall, How would you rate your Online Grocery Shopping Experience  \n",
       "count                                         370.000000                    \n",
       "mean                                            3.524324                    \n",
       "std                                             1.343741                    \n",
       "min                                             1.000000                    \n",
       "25%                                             2.000000                    \n",
       "50%                                             4.000000                    \n",
       "75%                                             5.000000                    \n",
       "max                                             5.000000                    "
      ]
     },
     "execution_count": 10,
     "metadata": {},
     "output_type": "execute_result"
    }
   ],
   "source": [
    "data.describe()"
   ]
  },
  {
   "cell_type": "markdown",
   "metadata": {},
   "source": [
    "# COUNT OF  VALUES FROM EACH COLUMS"
   ]
  },
  {
   "cell_type": "code",
   "execution_count": 11,
   "metadata": {},
   "outputs": [
    {
     "data": {
      "text/plain": [
       "Yes    283\n",
       "No      87\n",
       "Name: If Yes, Do you find Online Grocery Shopping Easier ?, dtype: int64"
      ]
     },
     "execution_count": 11,
     "metadata": {},
     "output_type": "execute_result"
    }
   ],
   "source": [
    "data['If Yes, Do you find Online Grocery Shopping Easier ?'].value_counts()"
   ]
  },
  {
   "cell_type": "code",
   "execution_count": 12,
   "metadata": {},
   "outputs": [
    {
     "data": {
      "text/plain": [
       "All of above                                                                                    171\n",
       "Discount & Offers;Shop at any time                                                               43\n",
       "Variety of Product;Discount & Offers;Shop at any time                                            24\n",
       "Discount & Offers                                                                                22\n",
       "Variety of Product;Discount & Offers                                                             18\n",
       "Variety of Product;Discount & Offers;Convenient;Shop at any time                                 17\n",
       "Shop at any time                                                                                 13\n",
       "Discount & Offers;Convenient                                                                      9\n",
       "Convenient;Shop at any time                                                                       9\n",
       "Variety of Product;Shop at any time                                                               8\n",
       "Discount & Offers;Convenient;Shop at any time                                                     8\n",
       "Variety of Product;Discount & Offers;Convenient;No Hidden Cost;Shop at any time;All of above      6\n",
       "Variety of Product;Discount & Offers;Convenient                                                   5\n",
       "Convenient                                                                                        5\n",
       "Variety of Product;Convenient;Shop at any time                                                    3\n",
       "Variety of Product                                                                                3\n",
       "No Hidden Cost;Shop at any time                                                                   1\n",
       "Discount & Offers;No Hidden Cost;Shop at any time                                                 1\n",
       "Variety of Product;Discount & Offers;No Hidden Cost;Shop at any time                              1\n",
       "Variety of Product;Discount & Offers;Convenient;No Hidden Cost;Shop at any time                   1\n",
       "Variety of Product;Convenient                                                                     1\n",
       "Variety of Product;No Hidden Cost                                                                 1\n",
       "Name: Why do you  Shop Online?  , dtype: int64"
      ]
     },
     "execution_count": 12,
     "metadata": {},
     "output_type": "execute_result"
    }
   ],
   "source": [
    "data['Why do you  Shop Online?  '].value_counts()"
   ]
  },
  {
   "cell_type": "code",
   "execution_count": 13,
   "metadata": {},
   "outputs": [
    {
     "data": {
      "text/plain": [
       "Yes    265\n",
       "No     105\n",
       "Name: Did you find good quality of product online as compare to your Retailer Shop?, dtype: int64"
      ]
     },
     "execution_count": 13,
     "metadata": {},
     "output_type": "execute_result"
    }
   ],
   "source": [
    "data['Did you find good quality of product online as compare to your Retailer Shop?'].value_counts()"
   ]
  },
  {
   "cell_type": "code",
   "execution_count": 14,
   "metadata": {},
   "outputs": [
    {
     "data": {
      "text/plain": [
       "Yes    264\n",
       "No     106\n",
       "Name: Do you find enough  Quantity of grocery product  online in comparison to your Retailer ? , dtype: int64"
      ]
     },
     "execution_count": 14,
     "metadata": {},
     "output_type": "execute_result"
    }
   ],
   "source": [
    "data['Do you find enough  Quantity of grocery product  online in comparison to your Retailer ? '].value_counts()"
   ]
  },
  {
   "cell_type": "code",
   "execution_count": 15,
   "metadata": {},
   "outputs": [
    {
     "data": {
      "text/plain": [
       "Yes    300\n",
       "No      70\n",
       "Name: Are online  products cheaper in price as compared to your Retailer Shop? , dtype: int64"
      ]
     },
     "execution_count": 15,
     "metadata": {},
     "output_type": "execute_result"
    }
   ],
   "source": [
    "data[ 'Are online  products cheaper in price as compared to your Retailer Shop? '].value_counts()"
   ]
  },
  {
   "cell_type": "code",
   "execution_count": 16,
   "metadata": {},
   "outputs": [
    {
     "data": {
      "text/plain": [
       "Yes    339\n",
       "No      31\n",
       "Name: Did you find product online easily ,compare to  your Retailer Shop? , dtype: int64"
      ]
     },
     "execution_count": 16,
     "metadata": {},
     "output_type": "execute_result"
    }
   ],
   "source": [
    "data['Did you find product online easily ,compare to  your Retailer Shop? '].value_counts()"
   ]
  },
  {
   "cell_type": "code",
   "execution_count": 17,
   "metadata": {},
   "outputs": [
    {
     "data": {
      "text/plain": [
       "No     290\n",
       "Yes     80\n",
       "Name: Do you find any difficulties in online payment ?, dtype: int64"
      ]
     },
     "execution_count": 17,
     "metadata": {},
     "output_type": "execute_result"
    }
   ],
   "source": [
    "data['Do you find any difficulties in online payment ?'].value_counts()"
   ]
  },
  {
   "cell_type": "code",
   "execution_count": 18,
   "metadata": {},
   "outputs": [
    {
     "data": {
      "text/plain": [
       "Yes    265\n",
       "No     105\n",
       "Name: Are you satisfied with the product  you received as compared to your  Retailer Shop? , dtype: int64"
      ]
     },
     "execution_count": 18,
     "metadata": {},
     "output_type": "execute_result"
    }
   ],
   "source": [
    "data['Are you satisfied with the product  you received as compared to your  Retailer Shop? '].value_counts()"
   ]
  },
  {
   "cell_type": "code",
   "execution_count": 19,
   "metadata": {},
   "outputs": [
    {
     "data": {
      "text/plain": [
       "5    124\n",
       "4     88\n",
       "3     65\n",
       "2     59\n",
       "1     34\n",
       "Name: On scale of 5 , can you rate for following factor ? [On Time Delivery], dtype: int64"
      ]
     },
     "execution_count": 19,
     "metadata": {},
     "output_type": "execute_result"
    }
   ],
   "source": [
    "data['On scale of 5 , can you rate for following factor ? [On Time Delivery]'].value_counts()"
   ]
  },
  {
   "cell_type": "code",
   "execution_count": 20,
   "metadata": {},
   "outputs": [
    {
     "data": {
      "text/plain": [
       "4    114\n",
       "3     81\n",
       "5     64\n",
       "2     62\n",
       "1     49\n",
       "Name: On scale of 5 , can you rate for following factor ? [Trustworthy], dtype: int64"
      ]
     },
     "execution_count": 20,
     "metadata": {},
     "output_type": "execute_result"
    }
   ],
   "source": [
    "data['On scale of 5 , can you rate for following factor ? [Trustworthy]'].value_counts()"
   ]
  },
  {
   "cell_type": "code",
   "execution_count": 21,
   "metadata": {},
   "outputs": [
    {
     "data": {
      "text/plain": [
       "5    146\n",
       "4     93\n",
       "1     50\n",
       "3     43\n",
       "2     38\n",
       "Name: On scale of 5 , can you rate for following factor ? [No transaction issues], dtype: int64"
      ]
     },
     "execution_count": 21,
     "metadata": {},
     "output_type": "execute_result"
    }
   ],
   "source": [
    "data['On scale of 5 , can you rate for following factor ? [No transaction issues]'].value_counts()"
   ]
  },
  {
   "cell_type": "code",
   "execution_count": 22,
   "metadata": {},
   "outputs": [
    {
     "data": {
      "text/plain": [
       "4    101\n",
       "3    100\n",
       "2     71\n",
       "5     66\n",
       "1     32\n",
       "Name: On scale of 5 , can you rate for following factor ? [Security], dtype: int64"
      ]
     },
     "execution_count": 22,
     "metadata": {},
     "output_type": "execute_result"
    }
   ],
   "source": [
    "data['On scale of 5 , can you rate for following factor ? [Security]'].value_counts()"
   ]
  },
  {
   "cell_type": "code",
   "execution_count": 23,
   "metadata": {},
   "outputs": [
    {
     "data": {
      "text/plain": [
       "5    105\n",
       "4     97\n",
       "3     72\n",
       "2     63\n",
       "1     33\n",
       "Name: On scale of 5 , can you rate for following factor ? [Product  Description], dtype: int64"
      ]
     },
     "execution_count": 23,
     "metadata": {},
     "output_type": "execute_result"
    }
   ],
   "source": [
    "data['On scale of 5 , can you rate for following factor ? [Product  Description]'].value_counts()"
   ]
  },
  {
   "cell_type": "code",
   "execution_count": 24,
   "metadata": {},
   "outputs": [
    {
     "data": {
      "text/plain": [
       "4    96\n",
       "5    88\n",
       "3    75\n",
       "2    71\n",
       "1    40\n",
       "Name: On scale of 5 , can you rate for following factor ? [Product Reviews], dtype: int64"
      ]
     },
     "execution_count": 24,
     "metadata": {},
     "output_type": "execute_result"
    }
   ],
   "source": [
    "data[ 'On scale of 5 , can you rate for following factor ? [Product Reviews]'].value_counts()"
   ]
  },
  {
   "cell_type": "code",
   "execution_count": 25,
   "metadata": {},
   "outputs": [
    {
     "data": {
      "text/plain": [
       "Yes    322\n",
       "No      48\n",
       "Name: Has  COVID-19   increased time you spent online  grocery Shopping    ? , dtype: int64"
      ]
     },
     "execution_count": 25,
     "metadata": {},
     "output_type": "execute_result"
    }
   ],
   "source": [
    "data['Has  COVID-19   increased time you spent online  grocery Shopping    ? '].value_counts()"
   ]
  },
  {
   "cell_type": "code",
   "execution_count": 26,
   "metadata": {},
   "outputs": [
    {
     "data": {
      "text/plain": [
       "Monthly           158\n",
       "Weekly            130\n",
       "Everyday           42\n",
       "2 times a week     40\n",
       "Name: How often do you shop online in last six month?, dtype: int64"
      ]
     },
     "execution_count": 26,
     "metadata": {},
     "output_type": "execute_result"
    }
   ],
   "source": [
    "data['How often do you shop online in last six month?'].value_counts()"
   ]
  },
  {
   "cell_type": "code",
   "execution_count": 27,
   "metadata": {},
   "outputs": [
    {
     "data": {
      "text/plain": [
       "Yes    240\n",
       "No     130\n",
       "Name: Would you prefer  shopping grocery online  than shopping  from your Retailer Shop?  , dtype: int64"
      ]
     },
     "execution_count": 27,
     "metadata": {},
     "output_type": "execute_result"
    }
   ],
   "source": [
    "data['Would you prefer  shopping grocery online  than shopping  from your Retailer Shop?  '].value_counts()"
   ]
  },
  {
   "cell_type": "code",
   "execution_count": 28,
   "metadata": {},
   "outputs": [
    {
     "data": {
      "text/plain": [
       "5    114\n",
       "4    102\n",
       "2     62\n",
       "3     55\n",
       "1     37\n",
       "Name: Overall, How would you rate your Online Grocery Shopping Experience, dtype: int64"
      ]
     },
     "execution_count": 28,
     "metadata": {},
     "output_type": "execute_result"
    }
   ],
   "source": [
    "data[ 'Overall, How would you rate your Online Grocery Shopping Experience'].value_counts()"
   ]
  },
  {
   "cell_type": "code",
   "execution_count": null,
   "metadata": {},
   "outputs": [],
   "source": []
  }
 ],
 "metadata": {
  "kernelspec": {
   "display_name": "Python 3",
   "language": "python",
   "name": "python3"
  },
  "language_info": {
   "codemirror_mode": {
    "name": "ipython",
    "version": 3
   },
   "file_extension": ".py",
   "mimetype": "text/x-python",
   "name": "python",
   "nbconvert_exporter": "python",
   "pygments_lexer": "ipython3",
   "version": "3.8.5"
  }
 },
 "nbformat": 4,
 "nbformat_minor": 4
}
